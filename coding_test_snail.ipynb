{
  "nbformat": 4,
  "nbformat_minor": 0,
  "metadata": {
    "colab": {
      "provenance": []
    },
    "kernelspec": {
      "name": "python3",
      "display_name": "Python 3"
    },
    "language_info": {
      "name": "python"
    }
  },
  "cells": [
    {
      "cell_type": "markdown",
      "source": [
        "n = 3 일 때 </br>\n",
        "\n",
        "1 2 3 </br>\n",
        "8 9 4 </br>\n",
        "7 6 5 </br>\n",
        "\n"
      ],
      "metadata": {
        "id": "xscfoECH1Muh"
      }
    },
    {
      "cell_type": "code",
      "source": [
        "import numpy as np"
      ],
      "metadata": {
        "id": "pCDKo0aN2C5j"
      },
      "execution_count": 2,
      "outputs": []
    },
    {
      "cell_type": "code",
      "source": [
        "n = 10\n",
        "np_array = np.zeros((n, n))\n",
        "row, col, cnt = 0, 0, 0\n",
        "\n",
        "for i in range(n):\n",
        "\n",
        "  # print(i)\n",
        "\n",
        "  while col < n - i:\n",
        "    # print(\"1st\", row, col, cnt)\n",
        "    np_array[row][col] = cnt+1\n",
        "    cnt += 1\n",
        "    col += 1\n",
        "  col -= 1\n",
        "  row += 1\n",
        "\n",
        "  if cnt == n**2 : break\n",
        "\n",
        "  while row < n - i:\n",
        "    # print(\"2nd\", row, col, cnt)\n",
        "    np_array[row][col] = cnt+1\n",
        "    cnt += 1\n",
        "    row += 1\n",
        "  row -= 1\n",
        "  col -= 1\n",
        "\n",
        "  if cnt == n**2 : break\n",
        "\n",
        "  while col >= 0 + i:\n",
        "    # print(\"3rd\", row, col, cnt)\n",
        "    np_array[row][col] = cnt+1\n",
        "    cnt += 1\n",
        "    col -= 1\n",
        "  col += 1\n",
        "  row -= 1\n",
        "\n",
        "  if cnt == n**2 : break\n",
        "\n",
        "  while row > 0 + i:\n",
        "    # print(\"4th\", row, col, cnt)\n",
        "    np_array[row][col] = cnt+1\n",
        "    cnt += 1\n",
        "    row -= 1\n",
        "  col += 1\n",
        "  row += 1\n",
        "\n",
        "  if cnt == n**2 : break\n",
        "\n",
        "np_array"
      ],
      "metadata": {
        "colab": {
          "base_uri": "https://localhost:8080/"
        },
        "id": "r40Txgbd5V_8",
        "outputId": "9a41d68a-bc36-4f3c-ca38-e84ef42f1d69"
      },
      "execution_count": 47,
      "outputs": [
        {
          "output_type": "execute_result",
          "data": {
            "text/plain": [
              "array([[  1.,   2.,   3.,   4.,   5.,   6.,   7.,   8.,   9.,  10.],\n",
              "       [ 36.,  37.,  38.,  39.,  40.,  41.,  42.,  43.,  44.,  11.],\n",
              "       [ 35.,  64.,  65.,  66.,  67.,  68.,  69.,  70.,  45.,  12.],\n",
              "       [ 34.,  63.,  84.,  85.,  86.,  87.,  88.,  71.,  46.,  13.],\n",
              "       [ 33.,  62.,  83.,  96.,  97.,  98.,  89.,  72.,  47.,  14.],\n",
              "       [ 32.,  61.,  82.,  95., 100.,  99.,  90.,  73.,  48.,  15.],\n",
              "       [ 31.,  60.,  81.,  94.,  93.,  92.,  91.,  74.,  49.,  16.],\n",
              "       [ 30.,  59.,  80.,  79.,  78.,  77.,  76.,  75.,  50.,  17.],\n",
              "       [ 29.,  58.,  57.,  56.,  55.,  54.,  53.,  52.,  51.,  18.],\n",
              "       [ 28.,  27.,  26.,  25.,  24.,  23.,  22.,  21.,  20.,  19.]])"
            ]
          },
          "metadata": {},
          "execution_count": 47
        }
      ]
    },
    {
      "cell_type": "code",
      "execution_count": 42,
      "metadata": {
        "colab": {
          "base_uri": "https://localhost:8080/"
        },
        "id": "hxKIc0bK1KXi",
        "outputId": "e23c8fb6-1312-4c5b-d6e7-55a34e4d5488"
      },
      "outputs": [
        {
          "output_type": "execute_result",
          "data": {
            "text/plain": [
              "array([[ 1.,  2.,  3.,  4.,  5.],\n",
              "       [16., 17., 18., 19.,  6.],\n",
              "       [15., 24., 25., 20.,  7.],\n",
              "       [14., 23., 22., 21.,  8.],\n",
              "       [13., 12., 11., 10.,  9.]])"
            ]
          },
          "metadata": {},
          "execution_count": 42
        }
      ],
      "source": [
        "# simple solution\n",
        "\n",
        "n = 5\n",
        "num = 1\n",
        "i = 0\n",
        "j = -1\n",
        "trans_num = 1\n",
        "result = np.zeros((n,n))\n",
        "\n",
        "while n > 0 :\n",
        "# 열 증가\n",
        "    for _ in range(n):\n",
        "        j += trans_num\n",
        "        result[i][j] = num\n",
        "        num += 1\n",
        "\n",
        "    n -= 1\n",
        "    #행 증가\n",
        "    for _ in range(n):\n",
        "        i += trans_num\n",
        "        result[i][j] = num\n",
        "        num += 1\n",
        "    trans_num *= -1\n",
        "\n",
        "result"
      ]
    }
  ]
}